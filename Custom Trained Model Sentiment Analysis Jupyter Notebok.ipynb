{
 "cells": [
  {
   "cell_type": "markdown",
   "metadata": {},
   "source": [
    "# Custom Trained Model Sentiment Analysis"
   ]
  },
  {
   "cell_type": "code",
   "execution_count": 65,
   "metadata": {
    "_cell_guid": "b1076dfc-b9ad-4769-8c92-a6c4dae69d19",
    "_kg_hide-output": true,
    "_uuid": "8f2839f25d086af736a60e9eeb907d3b93b6e0e5",
    "execution": {
     "iopub.execute_input": "2022-04-14T23:18:29.272952Z",
     "iopub.status.busy": "2022-04-14T23:18:29.272486Z",
     "iopub.status.idle": "2022-04-14T23:18:29.292616Z",
     "shell.execute_reply": "2022-04-14T23:18:29.292042Z",
     "shell.execute_reply.started": "2022-04-14T23:18:29.272898Z"
    }
   },
   "outputs": [
    {
     "name": "stdout",
     "output_type": "stream",
     "text": [
      "c:\\users\\00mrk\\appdata\\local\\programs\\python\\python38\\python.exe\n"
     ]
    }
   ],
   "source": [
    "import os\n",
    "\n",
    "import sys\n",
    "print(sys.executable)"
   ]
  },
  {
   "cell_type": "code",
   "execution_count": 66,
   "metadata": {
    "_kg_hide-output": true,
    "execution": {
     "iopub.execute_input": "2022-04-14T23:18:29.305125Z",
     "iopub.status.busy": "2022-04-14T23:18:29.304693Z",
     "iopub.status.idle": "2022-04-14T23:18:36.109500Z",
     "shell.execute_reply": "2022-04-14T23:18:36.108714Z",
     "shell.execute_reply.started": "2022-04-14T23:18:29.305086Z"
    }
   },
   "outputs": [],
   "source": [
    "# uncomment/comment down below line to install/uninstall hugging-face transformers\n",
    "\n",
    "#!pip install transformers\n",
    "#!pip install sklearn\n",
    "#!pip install torch"
   ]
  },
  {
   "cell_type": "markdown",
   "metadata": {},
   "source": [
    "### Importing necessary Libraries."
   ]
  },
  {
   "cell_type": "code",
   "execution_count": 67,
   "metadata": {
    "execution": {
     "iopub.execute_input": "2022-04-14T23:18:36.112189Z",
     "iopub.status.busy": "2022-04-14T23:18:36.111933Z",
     "iopub.status.idle": "2022-04-14T23:18:36.117690Z",
     "shell.execute_reply": "2022-04-14T23:18:36.117062Z",
     "shell.execute_reply.started": "2022-04-14T23:18:36.112135Z"
    }
   },
   "outputs": [],
   "source": [
    "import numpy as np\n",
    "import pandas as pd\n",
    "from sklearn.model_selection import train_test_split\n",
    "from sklearn.linear_model import LogisticRegression\n",
    "from sklearn.model_selection import GridSearchCV\n",
    "from sklearn.model_selection import cross_val_score\n",
    "import torch\n",
    "import transformers as ppb # pytorch-transformers by huggingface\n",
    "import warnings\n",
    "import time\n",
    "ppb.logging.set_verbosity_error()\n",
    "warnings.filterwarnings('ignore')"
   ]
  },
  {
   "cell_type": "markdown",
   "metadata": {},
   "source": [
    "### read the data from this dataset in two formats : CSV and TSV."
   ]
  },
  {
   "cell_type": "code",
   "execution_count": 102,
   "metadata": {
    "execution": {
     "iopub.execute_input": "2022-04-14T23:18:36.118806Z",
     "iopub.status.busy": "2022-04-14T23:18:36.118582Z",
     "iopub.status.idle": "2022-04-14T23:18:36.157082Z",
     "shell.execute_reply": "2022-04-14T23:18:36.156294Z",
     "shell.execute_reply.started": "2022-04-14T23:18:36.118764Z"
    }
   },
   "outputs": [
    {
     "data": {
      "text/plain": [
       "(6920, 2)"
      ]
     },
     "execution_count": 102,
     "metadata": {},
     "output_type": "execute_result"
    }
   ],
   "source": [
    "path = 'stanford-sentiment-treebank-v2-sst2/datasets/'\n",
    "\n",
    "df = pd.read_csv(path + 'tsv-format/train.tsv', delimiter='\\t')\n",
    "\n",
    "#print(df)\n",
    "\n",
    "# to read via CSV files...\n",
    "# df = pd.read_csv(path + 'csv-format/train.csv')\n",
    "\n",
    "# shape of dataset.\n",
    "df.shape"
   ]
  },
  {
   "cell_type": "markdown",
   "metadata": {},
   "source": [
    "#### For performance reasons, we'll only use 2,000 sentences from the dataset"
   ]
  },
  {
   "cell_type": "code",
   "execution_count": 104,
   "metadata": {
    "execution": {
     "iopub.execute_input": "2022-04-14T23:18:36.176928Z",
     "iopub.status.busy": "2022-04-14T23:18:36.176459Z",
     "iopub.status.idle": "2022-04-14T23:18:36.199911Z",
     "shell.execute_reply": "2022-04-14T23:18:36.198491Z",
     "shell.execute_reply.started": "2022-04-14T23:18:36.176883Z"
    }
   },
   "outputs": [
    {
     "data": {
      "text/html": [
       "<div>\n",
       "<style scoped>\n",
       "    .dataframe tbody tr th:only-of-type {\n",
       "        vertical-align: middle;\n",
       "    }\n",
       "\n",
       "    .dataframe tbody tr th {\n",
       "        vertical-align: top;\n",
       "    }\n",
       "\n",
       "    .dataframe thead th {\n",
       "        text-align: right;\n",
       "    }\n",
       "</style>\n",
       "<table border=\"1\" class=\"dataframe\">\n",
       "  <thead>\n",
       "    <tr style=\"text-align: right;\">\n",
       "      <th></th>\n",
       "      <th>Reviews</th>\n",
       "      <th>Ratings</th>\n",
       "    </tr>\n",
       "  </thead>\n",
       "  <tbody>\n",
       "    <tr>\n",
       "      <th>0</th>\n",
       "      <td>a stirring , funny and finally transporting re imagining of beauty and the beast and 1930s horror films</td>\n",
       "      <td>1</td>\n",
       "    </tr>\n",
       "    <tr>\n",
       "      <th>1</th>\n",
       "      <td>apparently reassembled from the cutting room floor of any given daytime soap</td>\n",
       "      <td>0</td>\n",
       "    </tr>\n",
       "    <tr>\n",
       "      <th>2</th>\n",
       "      <td>they presume their audience wo n't sit still for a sociology lesson , however entertainingly presented , so they trot out the conventional science fiction elements of bug eyed monsters and futuristic women in skimpy clothes</td>\n",
       "      <td>0</td>\n",
       "    </tr>\n",
       "    <tr>\n",
       "      <th>3</th>\n",
       "      <td>this is a visually stunning rumination on love , memory , history and the war between art and commerce</td>\n",
       "      <td>1</td>\n",
       "    </tr>\n",
       "    <tr>\n",
       "      <th>4</th>\n",
       "      <td>jonathan parker 's bartleby should have been the be all end all of the modern office anomie films</td>\n",
       "      <td>1</td>\n",
       "    </tr>\n",
       "    <tr>\n",
       "      <th>...</th>\n",
       "      <td>...</td>\n",
       "      <td>...</td>\n",
       "    </tr>\n",
       "    <tr>\n",
       "      <th>6915</th>\n",
       "      <td>painful , horrifying and oppressively tragic , this film should not be missed</td>\n",
       "      <td>1</td>\n",
       "    </tr>\n",
       "    <tr>\n",
       "      <th>6916</th>\n",
       "      <td>take care is nicely performed by a quintet of actresses , but nonetheless it drags during its 112 minute length</td>\n",
       "      <td>0</td>\n",
       "    </tr>\n",
       "    <tr>\n",
       "      <th>6917</th>\n",
       "      <td>the script covers huge , heavy topics in a bland , surfacey way that does n't offer any insight into why , for instance , good things happen to bad people</td>\n",
       "      <td>0</td>\n",
       "    </tr>\n",
       "    <tr>\n",
       "      <th>6918</th>\n",
       "      <td>a seriously bad film with seriously warped logic by writer director kurt wimmer at the screenplay level</td>\n",
       "      <td>0</td>\n",
       "    </tr>\n",
       "    <tr>\n",
       "      <th>6919</th>\n",
       "      <td>a deliciously nonsensical comedy about a city coming apart at its seams</td>\n",
       "      <td>1</td>\n",
       "    </tr>\n",
       "  </tbody>\n",
       "</table>\n",
       "<p>6920 rows × 2 columns</p>\n",
       "</div>"
      ],
      "text/plain": [
       "                                                                                                                                                                                                                              Reviews  \\\n",
       "0                                                                                                                             a stirring , funny and finally transporting re imagining of beauty and the beast and 1930s horror films   \n",
       "1                                                                                                                                                        apparently reassembled from the cutting room floor of any given daytime soap   \n",
       "2     they presume their audience wo n't sit still for a sociology lesson , however entertainingly presented , so they trot out the conventional science fiction elements of bug eyed monsters and futuristic women in skimpy clothes   \n",
       "3                                                                                                                              this is a visually stunning rumination on love , memory , history and the war between art and commerce   \n",
       "4                                                                                                                                   jonathan parker 's bartleby should have been the be all end all of the modern office anomie films   \n",
       "...                                                                                                                                                                                                                               ...   \n",
       "6915                                                                                                                                                    painful , horrifying and oppressively tragic , this film should not be missed   \n",
       "6916                                                                                                                  take care is nicely performed by a quintet of actresses , but nonetheless it drags during its 112 minute length   \n",
       "6917                                                                       the script covers huge , heavy topics in a bland , surfacey way that does n't offer any insight into why , for instance , good things happen to bad people   \n",
       "6918                                                                                                                          a seriously bad film with seriously warped logic by writer director kurt wimmer at the screenplay level   \n",
       "6919                                                                                                                                                          a deliciously nonsensical comedy about a city coming apart at its seams   \n",
       "\n",
       "      Ratings  \n",
       "0           1  \n",
       "1           0  \n",
       "2           0  \n",
       "3           1  \n",
       "4           1  \n",
       "...       ...  \n",
       "6915        1  \n",
       "6916        0  \n",
       "6917        0  \n",
       "6918        0  \n",
       "6919        1  \n",
       "\n",
       "[6920 rows x 2 columns]"
      ]
     },
     "execution_count": 104,
     "metadata": {},
     "output_type": "execute_result"
    }
   ],
   "source": [
    "batch_1 = df[:5000]\n",
    "pd.set_option('display.max_colwidth', None)\n",
    "batch_1.head(100000)\n"
   ]
  },
  {
   "cell_type": "code",
   "execution_count": 70,
   "metadata": {
    "execution": {
     "iopub.execute_input": "2022-04-14T23:18:36.202383Z",
     "iopub.status.busy": "2022-04-14T23:18:36.201992Z",
     "iopub.status.idle": "2022-04-14T23:18:36.215248Z",
     "shell.execute_reply": "2022-04-14T23:18:36.213851Z",
     "shell.execute_reply.started": "2022-04-14T23:18:36.202317Z"
    }
   },
   "outputs": [
    {
     "data": {
      "text/plain": [
       "1    1041\n",
       "0     959\n",
       "Name: Ratings, dtype: int64"
      ]
     },
     "execution_count": 70,
     "metadata": {},
     "output_type": "execute_result"
    }
   ],
   "source": [
    "batch_1['Ratings'].value_counts()"
   ]
  },
  {
   "cell_type": "markdown",
   "metadata": {},
   "source": [
    "### Let's now load a pre-trained BERT model."
   ]
  },
  {
   "cell_type": "code",
   "execution_count": 71,
   "metadata": {
    "execution": {
     "iopub.execute_input": "2022-04-14T23:18:36.218208Z",
     "iopub.status.busy": "2022-04-14T23:18:36.217550Z",
     "iopub.status.idle": "2022-04-14T23:18:36.319942Z",
     "shell.execute_reply": "2022-04-14T23:18:36.318909Z",
     "shell.execute_reply.started": "2022-04-14T23:18:36.218151Z"
    }
   },
   "outputs": [],
   "source": [
    "model_class, tokenizer_class, pretrained_weights = (ppb.DistilBertModel, ppb.DistilBertTokenizer, 'distilbert-base-uncased')\n",
    "\n",
    "## Want BERT instead of distilBERT? Uncomment the following line:\n",
    "#model_class, tokenizer_class, pretrained_weights = (ppb.BertModel, ppb.BertTokenizer, 'bert-base-uncased')"
   ]
  },
  {
   "cell_type": "markdown",
   "metadata": {},
   "source": [
    "#### Right now, the variable model holds a pretrained distilBERT model -- a version of BERT that is smaller, but much faster and requiring a lot less memory."
   ]
  },
  {
   "cell_type": "code",
   "execution_count": 72,
   "metadata": {
    "execution": {
     "iopub.execute_input": "2022-04-14T23:18:36.321311Z",
     "iopub.status.busy": "2022-04-14T23:18:36.321099Z",
     "iopub.status.idle": "2022-04-14T23:18:44.738088Z",
     "shell.execute_reply": "2022-04-14T23:18:44.737207Z",
     "shell.execute_reply.started": "2022-04-14T23:18:36.321268Z"
    }
   },
   "outputs": [],
   "source": [
    "# Load pretrained model/tokenizer\n",
    "tokenizer = tokenizer_class.from_pretrained(pretrained_weights)\n",
    "model = model_class.from_pretrained(pretrained_weights)"
   ]
  },
  {
   "cell_type": "markdown",
   "metadata": {},
   "source": [
    "## Tokenization\n",
    "Our first step is to tokenize the sentences -- break them up into word and subwords in the format BERT is comfortable with."
   ]
  },
  {
   "cell_type": "code",
   "execution_count": 73,
   "metadata": {
    "execution": {
     "iopub.execute_input": "2022-04-14T23:18:44.739518Z",
     "iopub.status.busy": "2022-04-14T23:18:44.739261Z",
     "iopub.status.idle": "2022-04-14T23:18:46.069281Z",
     "shell.execute_reply": "2022-04-14T23:18:46.067853Z",
     "shell.execute_reply.started": "2022-04-14T23:18:44.739460Z"
    }
   },
   "outputs": [
    {
     "data": {
      "text/plain": [
       "(2000,)"
      ]
     },
     "execution_count": 73,
     "metadata": {},
     "output_type": "execute_result"
    }
   ],
   "source": [
    "\n",
    "tokenized = batch_1['Reviews'].apply((lambda x: tokenizer.encode(x, add_special_tokens=True)))\n",
    "tokenized.shape"
   ]
  },
  {
   "cell_type": "markdown",
   "metadata": {},
   "source": [
    "## Padding"
   ]
  },
  {
   "cell_type": "code",
   "execution_count": 74,
   "metadata": {
    "execution": {
     "iopub.execute_input": "2022-04-14T23:18:46.078871Z",
     "iopub.status.busy": "2022-04-14T23:18:46.078585Z",
     "iopub.status.idle": "2022-04-14T23:18:46.119519Z",
     "shell.execute_reply": "2022-04-14T23:18:46.118849Z",
     "shell.execute_reply.started": "2022-04-14T23:18:46.078818Z"
    }
   },
   "outputs": [
    {
     "data": {
      "text/plain": [
       "(2000, 59)"
      ]
     },
     "execution_count": 74,
     "metadata": {},
     "output_type": "execute_result"
    }
   ],
   "source": [
    "max_len = 0\n",
    "for i in tokenized.values:\n",
    "    if len(i) > max_len:\n",
    "        max_len = len(i)\n",
    "\n",
    "padded = np.array([i + [0]*(max_len-len(i)) for i in tokenized.values])\n",
    "np.array(padded).shape"
   ]
  },
  {
   "cell_type": "markdown",
   "metadata": {},
   "source": [
    "## Masking"
   ]
  },
  {
   "cell_type": "code",
   "execution_count": 75,
   "metadata": {
    "execution": {
     "iopub.execute_input": "2022-04-14T23:18:46.133600Z",
     "iopub.status.busy": "2022-04-14T23:18:46.133058Z",
     "iopub.status.idle": "2022-04-14T23:18:46.143934Z",
     "shell.execute_reply": "2022-04-14T23:18:46.142591Z",
     "shell.execute_reply.started": "2022-04-14T23:18:46.133554Z"
    }
   },
   "outputs": [
    {
     "data": {
      "text/plain": [
       "(2000, 59)"
      ]
     },
     "execution_count": 75,
     "metadata": {},
     "output_type": "execute_result"
    }
   ],
   "source": [
    "attention_mask = np.where(padded != 0, 1, 0)\n",
    "attention_mask.shape"
   ]
  },
  {
   "cell_type": "markdown",
   "metadata": {},
   "source": [
    "## DEEP LEARNING\n",
    "\n",
    "let's train the model\n",
    "\n",
    "The model() function runs sentences through BERT."
   ]
  },
  {
   "cell_type": "code",
   "execution_count": 76,
   "metadata": {
    "execution": {
     "iopub.execute_input": "2022-04-14T23:18:46.145857Z",
     "iopub.status.busy": "2022-04-14T23:18:46.145506Z",
     "iopub.status.idle": "2022-04-14T23:23:04.710497Z",
     "shell.execute_reply": "2022-04-14T23:23:04.709120Z",
     "shell.execute_reply.started": "2022-04-14T23:18:46.145759Z"
    }
   },
   "outputs": [
    {
     "name": "stdout",
     "output_type": "stream",
     "text": [
      "Sun May  1 00:46:41 2022\n",
      "Sun May  1 00:48:21 2022\n"
     ]
    }
   ],
   "source": [
    "print(time.ctime())\n",
    "\n",
    "input_ids = torch.tensor(padded)  \n",
    "attention_mask = torch.tensor(attention_mask)\n",
    "\n",
    "with torch.no_grad():\n",
    "    last_hidden_states = model(input_ids, attention_mask=attention_mask)\n",
    "    \n",
    "\n",
    "print(time.ctime())"
   ]
  },
  {
   "cell_type": "code",
   "execution_count": 77,
   "metadata": {
    "execution": {
     "iopub.execute_input": "2022-04-14T23:23:04.712821Z",
     "iopub.status.busy": "2022-04-14T23:23:04.712528Z",
     "iopub.status.idle": "2022-04-14T23:23:04.718285Z",
     "shell.execute_reply": "2022-04-14T23:23:04.717634Z",
     "shell.execute_reply.started": "2022-04-14T23:23:04.712768Z"
    }
   },
   "outputs": [],
   "source": [
    "features = last_hidden_states[0][:,0,:].numpy()"
   ]
  },
  {
   "cell_type": "code",
   "execution_count": 78,
   "metadata": {
    "execution": {
     "iopub.execute_input": "2022-04-14T23:23:04.719680Z",
     "iopub.status.busy": "2022-04-14T23:23:04.719336Z",
     "iopub.status.idle": "2022-04-14T23:23:04.734412Z",
     "shell.execute_reply": "2022-04-14T23:23:04.733427Z",
     "shell.execute_reply.started": "2022-04-14T23:23:04.719635Z"
    }
   },
   "outputs": [],
   "source": [
    "labels = batch_1['Ratings']"
   ]
  },
  {
   "cell_type": "code",
   "execution_count": 79,
   "metadata": {
    "execution": {
     "iopub.execute_input": "2022-04-14T23:23:04.735961Z",
     "iopub.status.busy": "2022-04-14T23:23:04.735699Z",
     "iopub.status.idle": "2022-04-14T23:23:04.761550Z",
     "shell.execute_reply": "2022-04-14T23:23:04.760094Z",
     "shell.execute_reply.started": "2022-04-14T23:23:04.735912Z"
    }
   },
   "outputs": [],
   "source": [
    "train_features, test_features, train_labels, test_labels = train_test_split(features, labels)"
   ]
  },
  {
   "cell_type": "markdown",
   "metadata": {},
   "source": [
    "## train the Logistic Regression model on the training data"
   ]
  },
  {
   "cell_type": "code",
   "execution_count": 81,
   "metadata": {
    "execution": {
     "iopub.execute_input": "2022-04-14T23:23:04.769604Z",
     "iopub.status.busy": "2022-04-14T23:23:04.769405Z",
     "iopub.status.idle": "2022-04-14T23:23:05.282289Z",
     "shell.execute_reply": "2022-04-14T23:23:05.281182Z",
     "shell.execute_reply.started": "2022-04-14T23:23:04.769563Z"
    }
   },
   "outputs": [
    {
     "data": {
      "text/plain": [
       "LogisticRegression()"
      ]
     },
     "execution_count": 81,
     "metadata": {},
     "output_type": "execute_result"
    }
   ],
   "source": [
    "lr_clf = LogisticRegression()\n",
    "lr_clf.fit(train_features, train_labels)"
   ]
  },
  {
   "cell_type": "markdown",
   "metadata": {},
   "source": [
    "## test the Logistic Regression model on the test data"
   ]
  },
  {
   "cell_type": "code",
   "execution_count": 82,
   "metadata": {
    "execution": {
     "iopub.execute_input": "2022-04-14T23:23:05.284097Z",
     "iopub.status.busy": "2022-04-14T23:23:05.283715Z",
     "iopub.status.idle": "2022-04-14T23:23:05.300793Z",
     "shell.execute_reply": "2022-04-14T23:23:05.300019Z",
     "shell.execute_reply.started": "2022-04-14T23:23:05.284023Z"
    }
   },
   "outputs": [
    {
     "data": {
      "text/plain": [
       "0.828"
      ]
     },
     "execution_count": 82,
     "metadata": {},
     "output_type": "execute_result"
    }
   ],
   "source": [
    "lr_clf.score(test_features, test_labels)"
   ]
  },
  {
   "cell_type": "code",
   "execution_count": 100,
   "metadata": {},
   "outputs": [
    {
     "data": {
      "text/html": [
       "<div>\n",
       "<style scoped>\n",
       "    .dataframe tbody tr th:only-of-type {\n",
       "        vertical-align: middle;\n",
       "    }\n",
       "\n",
       "    .dataframe tbody tr th {\n",
       "        vertical-align: top;\n",
       "    }\n",
       "\n",
       "    .dataframe thead th {\n",
       "        text-align: right;\n",
       "    }\n",
       "</style>\n",
       "<table border=\"1\" class=\"dataframe\">\n",
       "  <thead>\n",
       "    <tr style=\"text-align: right;\">\n",
       "      <th></th>\n",
       "      <th>Reviews</th>\n",
       "      <th>Ratings</th>\n",
       "      <th>Prediction</th>\n",
       "    </tr>\n",
       "  </thead>\n",
       "  <tbody>\n",
       "    <tr>\n",
       "      <th>0</th>\n",
       "      <td>no movement , no yuks , not much of anything</td>\n",
       "      <td>0</td>\n",
       "      <td>0</td>\n",
       "    </tr>\n",
       "    <tr>\n",
       "      <th>1</th>\n",
       "      <td>a gob of drivel so sickly sweet , even the eager consumers of moore 's pasteurized ditties will retch it up like rancid cr me br l e</td>\n",
       "      <td>0</td>\n",
       "      <td>0</td>\n",
       "    </tr>\n",
       "    <tr>\n",
       "      <th>2</th>\n",
       "      <td>gangs of new york is an unapologetic mess , whose only saving grace is that it ends by blowing just about everything up</td>\n",
       "      <td>0</td>\n",
       "      <td>1</td>\n",
       "    </tr>\n",
       "    <tr>\n",
       "      <th>3</th>\n",
       "      <td>we never really feel involved with the story , as all of its ideas remain just that abstract ideas</td>\n",
       "      <td>0</td>\n",
       "      <td>0</td>\n",
       "    </tr>\n",
       "    <tr>\n",
       "      <th>4</th>\n",
       "      <td>this is one of polanski 's best films</td>\n",
       "      <td>1</td>\n",
       "      <td>1</td>\n",
       "    </tr>\n",
       "    <tr>\n",
       "      <th>...</th>\n",
       "      <td>...</td>\n",
       "      <td>...</td>\n",
       "      <td>...</td>\n",
       "    </tr>\n",
       "    <tr>\n",
       "      <th>1816</th>\n",
       "      <td>an often deadly boring , strange reading of a classic whose witty dialogue is treated with a baffling casual approach</td>\n",
       "      <td>0</td>\n",
       "      <td>0</td>\n",
       "    </tr>\n",
       "    <tr>\n",
       "      <th>1817</th>\n",
       "      <td>the problem with concept films is that if the concept is a poor one , there 's no saving the movie</td>\n",
       "      <td>0</td>\n",
       "      <td>0</td>\n",
       "    </tr>\n",
       "    <tr>\n",
       "      <th>1818</th>\n",
       "      <td>safe conduct , however ambitious and well intentioned , fails to hit the entertainment bull 's eye</td>\n",
       "      <td>0</td>\n",
       "      <td>0</td>\n",
       "    </tr>\n",
       "    <tr>\n",
       "      <th>1819</th>\n",
       "      <td>a film made with as little wit , interest , and professionalism as artistically possible for a slummy hollywood caper flick</td>\n",
       "      <td>0</td>\n",
       "      <td>0</td>\n",
       "    </tr>\n",
       "    <tr>\n",
       "      <th>1820</th>\n",
       "      <td>but here 's the real damn it is n't funny , either</td>\n",
       "      <td>0</td>\n",
       "      <td>0</td>\n",
       "    </tr>\n",
       "  </tbody>\n",
       "</table>\n",
       "<p>1821 rows × 3 columns</p>\n",
       "</div>"
      ],
      "text/plain": [
       "                                                                                                                                   Reviews  \\\n",
       "0                                                                                             no movement , no yuks , not much of anything   \n",
       "1     a gob of drivel so sickly sweet , even the eager consumers of moore 's pasteurized ditties will retch it up like rancid cr me br l e   \n",
       "2                  gangs of new york is an unapologetic mess , whose only saving grace is that it ends by blowing just about everything up   \n",
       "3                                       we never really feel involved with the story , as all of its ideas remain just that abstract ideas   \n",
       "4                                                                                                    this is one of polanski 's best films   \n",
       "...                                                                                                                                    ...   \n",
       "1816                 an often deadly boring , strange reading of a classic whose witty dialogue is treated with a baffling casual approach   \n",
       "1817                                    the problem with concept films is that if the concept is a poor one , there 's no saving the movie   \n",
       "1818                                    safe conduct , however ambitious and well intentioned , fails to hit the entertainment bull 's eye   \n",
       "1819           a film made with as little wit , interest , and professionalism as artistically possible for a slummy hollywood caper flick   \n",
       "1820                                                                                    but here 's the real damn it is n't funny , either   \n",
       "\n",
       "      Ratings  Prediction  \n",
       "0           0           0  \n",
       "1           0           0  \n",
       "2           0           1  \n",
       "3           0           0  \n",
       "4           1           1  \n",
       "...       ...         ...  \n",
       "1816        0           0  \n",
       "1817        0           0  \n",
       "1818        0           0  \n",
       "1819        0           0  \n",
       "1820        0           0  \n",
       "\n",
       "[1821 rows x 3 columns]"
      ]
     },
     "execution_count": 100,
     "metadata": {},
     "output_type": "execute_result"
    }
   ],
   "source": [
    "path = 'stanford-sentiment-treebank-v2-sst2/datasets/'\n",
    "\n",
    "df = pd.read_csv(path + 'tsv-format/test2.tsv', delimiter='\\t')\n",
    "\n",
    "batch_1 = df\n",
    "pd.set_option('display.max_colwidth', None)\n",
    "batch_1.head(100000)"
   ]
  },
  {
   "cell_type": "code",
   "execution_count": 90,
   "metadata": {},
   "outputs": [
    {
     "data": {
      "text/plain": [
       "array([0, 1, 1, 0, 1, 0, 0, 1, 1, 0, 0, 1, 1, 1, 1, 1, 1, 1, 1, 0, 1, 1,\n",
       "       1, 0, 1, 1, 1, 0, 1, 1, 0, 1, 0, 0, 0, 1, 0, 1, 1, 0, 0, 1, 1, 1,\n",
       "       1, 0, 0, 1, 0, 1, 0, 1, 1, 0, 0, 0, 0, 0, 0, 1, 0, 1, 0, 1, 1, 0,\n",
       "       1, 1, 0, 0, 1, 1, 1, 0, 1, 0, 0, 0, 0, 1, 1, 1, 1, 1, 0, 1, 1, 0,\n",
       "       1, 0, 1, 0, 1, 1, 0, 1, 1, 1, 1, 0, 1, 0, 0, 1, 1, 0, 1, 0, 1, 0,\n",
       "       0, 0, 1, 0, 0, 0, 1, 1, 0, 1, 1, 0, 1, 1, 0, 0, 0, 1, 1, 1, 1, 1,\n",
       "       0, 0, 0, 0, 1, 1, 1, 1, 0, 0, 1, 1, 1, 1, 1, 1, 0, 1, 1, 1, 0, 0,\n",
       "       0, 1, 0, 1, 1, 0, 0, 0, 0, 0, 0, 1, 1, 1, 1, 1, 1, 1, 0, 0, 1, 0,\n",
       "       1, 1, 0, 1, 0, 0, 1, 1, 0, 0, 0, 1, 0, 0, 1, 0, 1, 1, 0, 0, 1, 1,\n",
       "       1, 0, 1, 0, 1, 0, 0, 0, 0, 0, 0, 0, 0, 1, 0, 0, 1, 1, 1, 0, 0, 1,\n",
       "       1, 0, 1, 1, 1, 0, 0, 0, 1, 1, 0, 1, 1, 1, 1, 1, 1, 0, 0, 1, 1, 1,\n",
       "       1, 0, 0, 1, 1, 1, 1, 1, 1, 0, 1, 1, 1, 0, 1, 0, 0, 0, 1, 1, 1, 0,\n",
       "       1, 1, 0, 0, 1, 0, 0, 1, 0, 0, 0, 1, 0, 0, 1, 0, 1, 1, 0, 1, 0, 0,\n",
       "       0, 1, 0, 0, 0, 0, 0, 0, 1, 1, 1, 0, 1, 1, 1, 1, 0, 1, 1, 0, 0, 1,\n",
       "       1, 1, 1, 1, 1, 0, 1, 0, 1, 1, 0, 1, 1, 1, 0, 1, 0, 1, 1, 1, 0, 0,\n",
       "       0, 0, 0, 0, 1, 0, 0, 0, 1, 1, 1, 1, 1, 0, 0, 0, 1, 0, 0, 0, 1, 0,\n",
       "       1, 1, 0, 1, 0, 0, 1, 0, 0, 1, 1, 1, 1, 1, 1, 0, 0, 0, 0, 1, 1, 1,\n",
       "       0, 0, 0, 0, 0, 0, 0, 1, 1, 0, 1, 0, 0, 0, 0, 0, 0, 1, 0, 0, 1, 0,\n",
       "       1, 1, 1, 1, 1, 1, 1, 1, 1, 0, 1, 0, 0, 1, 1, 1, 0, 0, 0, 1, 1, 1,\n",
       "       0, 0, 1, 1, 1, 0, 1, 0, 0, 0, 0, 1, 1, 1, 0, 1, 0, 1, 0, 1, 1, 1,\n",
       "       0, 1, 0, 1, 1, 1, 1, 1, 1, 1, 1, 0, 0, 0, 1, 0, 0, 1, 1, 1, 1, 1,\n",
       "       0, 0, 1, 0, 0, 0, 0, 0, 0, 1, 1, 1, 1, 0, 1, 1, 1, 0, 0, 0, 0, 1,\n",
       "       0, 0, 1, 0, 1, 0, 1, 0, 1, 1, 0, 0, 0, 1, 1, 1], dtype=int64)"
      ]
     },
     "execution_count": 90,
     "metadata": {},
     "output_type": "execute_result"
    }
   ],
   "source": [
    "#print(test_features[0])\n",
    "lr_clf.predict(test_features)"
   ]
  },
  {
   "cell_type": "code",
   "execution_count": 84,
   "metadata": {},
   "outputs": [
    {
     "name": "stdout",
     "output_type": "stream",
     "text": [
      "                                                       Reviews  Ratings\n",
      "0                                                 this is shit        0\n",
      "1                                              this is garbage        0\n",
      "2                                  this is pretty good garbage        0\n",
      "3                                      not bad, not bad at all        1\n",
      "4                             pretty stupid, but in a good way        0\n",
      "5                                                  really nice        1\n",
      "6                                                  bilionaires        0\n",
      "7                                                    oligarchs        0\n",
      "8                                         it is a simple movie        0\n",
      "9      script sounds like it was written by a bunch of monkeys        0\n",
      "10  my eyes were bleeding after I tore them out after watching        0\n",
      "11                                              waste of a day        0\n",
      "12                                                   addicting        1\n",
      "13                   I liked the part when everyone was killed        1\n",
      "14                                             It was like sex        1\n",
      "15                                    super addicting to watch        1\n",
      "16                          the best part was when it was over        0\n"
     ]
    }
   ],
   "source": [
    "print(batch_1)"
   ]
  },
  {
   "cell_type": "code",
   "execution_count": 86,
   "metadata": {},
   "outputs": [
    {
     "name": "stdout",
     "output_type": "stream",
     "text": [
      "[0 0 0 0 0 1 1 0 1 0 0 0 0 1 0 1 0]\n",
      " \n",
      "[[0.98323219 0.01676781]\n",
      " [0.99819389 0.00180611]\n",
      " [0.97710125 0.02289875]\n",
      " [0.84562289 0.15437711]\n",
      " [0.69681505 0.30318495]\n",
      " [0.05333131 0.94666869]\n",
      " [0.29092542 0.70907458]\n",
      " [0.76092639 0.23907361]\n",
      " [0.44161449 0.55838551]\n",
      " [0.99012889 0.00987111]\n",
      " [0.90287425 0.09712575]\n",
      " [0.99391506 0.00608494]\n",
      " [0.98073788 0.01926212]\n",
      " [0.3519826  0.6480174 ]\n",
      " [0.56385718 0.43614282]\n",
      " [0.07587182 0.92412818]\n",
      " [0.7461826  0.2538174 ]]\n",
      " \n",
      "0.7058823529411765\n",
      " \n"
     ]
    }
   ],
   "source": [
    "print(lr_clf.predict(new_features))\n",
    "print(\" \")\n",
    "print(lr_clf.predict_proba(new_features))\n",
    "print(\" \")\n",
    "print(lr_clf.score(new_features, new_labels))\n",
    "print(\" \")"
   ]
  }
 ],
 "metadata": {
  "kernelspec": {
   "display_name": "Python 3",
   "language": "python",
   "name": "python3"
  },
  "language_info": {
   "codemirror_mode": {
    "name": "ipython",
    "version": 3
   },
   "file_extension": ".py",
   "mimetype": "text/x-python",
   "name": "python",
   "nbconvert_exporter": "python",
   "pygments_lexer": "ipython3",
   "version": "3.8.10"
  }
 },
 "nbformat": 4,
 "nbformat_minor": 4
}
